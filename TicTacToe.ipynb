{
 "metadata": {
  "name": "",
  "signature": "sha256:4108183feed9e24916475338f40de7d30adc1ff26d9c3535cae6ba203b455013"
 },
 "nbformat": 3,
 "nbformat_minor": 0,
 "worksheets": [
  {
   "cells": [
    {
     "cell_type": "code",
     "collapsed": false,
     "input": [
      "import numpy as np\n",
      "import itertools\n",
      "import importlib\n",
      "import combinatorial_games\n",
      "importlib.reload(combinatorial_games)\n",
      "from combinatorial_games import ACG\n",
      "#from cg import ACG"
     ],
     "language": "python",
     "metadata": {},
     "outputs": []
    },
    {
     "cell_type": "code",
     "collapsed": false,
     "input": [
      "class TicTacToe(ACG) :\n",
      "    \"\"\"\n",
      "    TicTacToe.\n",
      "    \"\"\"   \n",
      "    def __init__(self,board=np.zeros((3,3),str)) :\n",
      "        \n",
      "        self.board = board  \n",
      "        self.goals = []\n",
      "        for i in range(self.board.shape[1]) :\n",
      "            self.goals.append([(_,i) for _ in range(self.board.shape[0])])\n",
      "        for i in range(self.board.shape[0]) :\n",
      "            self.goals.append([(i,_) for _ in range(self.board.shape[1])])\n",
      "        if self.board.shape[0] == self.board.shape[1] :\n",
      "            self.goals.append([(_,_) for _ in range(self.board.shape[0])])\n",
      "            self.goals.append([(self.board.shape[0]-1-_,_) for _ in range(self.board.shape[0])])\n",
      "        \n",
      "    def __repr__(self) :\n",
      "        sep = '+'.join(['-']*self.board.shape[1])\n",
      "        return '\\n\\n'+ ('\\n%s\\n' % (sep,)).join(['|'.join([(' ' if _=='' else _) for _ in row]) for row in self.board])\n",
      "      \n",
      "    def leafScore(self) :\n",
      "        for goal in self.goals :\n",
      "            if np.all([self.board[_]=='X' for _ in goal]) :\n",
      "                return +1\n",
      "            elif np.all([self.board[_]=='O' for _ in goal]) :\n",
      "                return -1\n",
      "        return 0\n",
      "        \n",
      "    def L(self) :\n",
      "        return self.plays('X')\n",
      "    \n",
      "    def R(self) :\n",
      "        return self.plays('O')\n",
      "    \n",
      "    def play(self,square,XO) :\n",
      "        \"\"\"\n",
      "        Place a marker XO at the specified\n",
      "        square.  Square is a tuple that indicates\n",
      "        a location in the array self.board.\n",
      "        Return a new board.\n",
      "        \"\"\"\n",
      "        board = self.board.copy()\n",
      "        board[square] = XO\n",
      "        return TicTacToe(board)\n",
      "    \n",
      "    def plays(self,XO) :\n",
      "        retval = []\n",
      "        if self.leafScore() == 0 :\n",
      "            for square in itertools.product(*map(range,self.board.shape)) :\n",
      "                if self.board[square] == '' :\n",
      "                    retval.append(self.play(square,XO))\n",
      "        return retval"
     ],
     "language": "python",
     "metadata": {},
     "outputs": []
    },
    {
     "cell_type": "code",
     "collapsed": false,
     "input": [
      "#g = TicTacToe(np.zeros((3,3),str))\n",
      "g = TicTacToe(np.array([['', '',''],\\\n",
      "                        ['','X', ''],\\\n",
      "                        ['', '', '']]))\n",
      "print(g)"
     ],
     "language": "python",
     "metadata": {},
     "outputs": []
    },
    {
     "cell_type": "code",
     "collapsed": false,
     "input": [
      "result = g.scoreR()\n",
      "print(g)\n",
      "print('')\n",
      "print(result[0])\n",
      "print('')\n",
      "print(list(reversed(result[2:])))"
     ],
     "language": "python",
     "metadata": {},
     "outputs": []
    },
    {
     "cell_type": "code",
     "collapsed": false,
     "input": [],
     "language": "python",
     "metadata": {},
     "outputs": []
    },
    {
     "cell_type": "code",
     "collapsed": false,
     "input": [],
     "language": "python",
     "metadata": {},
     "outputs": []
    },
    {
     "cell_type": "code",
     "collapsed": false,
     "input": [],
     "language": "python",
     "metadata": {},
     "outputs": []
    }
   ],
   "metadata": {}
  }
 ]
}