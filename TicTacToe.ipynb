{
 "metadata": {
  "name": "",
  "signature": "sha256:c706a9e4894e9f54660617a95e2bc19d9dd97b8cb516b2ecb115a6e3df057beb"
 },
 "nbformat": 3,
 "nbformat_minor": 0,
 "worksheets": [
  {
   "cells": [
    {
     "cell_type": "code",
     "collapsed": false,
     "input": [
      "import numpy as np\n",
      "import itertools\n",
      "import combinatorial_games as cg\n",
      "reload(cg)\n",
      "from cg import ACG"
     ],
     "language": "python",
     "metadata": {},
     "outputs": [],
     "prompt_number": 94
    },
    {
     "cell_type": "code",
     "collapsed": false,
     "input": [
      "class TicTacToe(ACG) :\n",
      "    \"\"\"\n",
      "    TicTacToe.\n",
      "    \"\"\"\n",
      "    max_score = +1\n",
      "    min_score = -1\n",
      "    \n",
      "    def __init__(self,board=np.zeros((3,3),str)) :\n",
      "        \n",
      "        self.board = board  \n",
      "        self.goals = []\n",
      "        for i in range(self.board.shape[1]) :\n",
      "            self.goals.append([(_,i) for _ in range(self.board.shape[0])])\n",
      "        for i in range(self.board.shape[0]) :\n",
      "            self.goals.append([(i,_) for _ in range(self.board.shape[1])])\n",
      "        if self.board.shape[0] == self.board.shape[1] :\n",
      "            self.goals.append([(_,_) for _ in range(self.board.shape[0])])\n",
      "            self.goals.append([(self.board.shape[0]-1-_,_) for _ in range(self.board.shape[0])])\n",
      "        \n",
      "    def __repr__(self) :\n",
      "        sep = '+'.join(['-']*self.board.shape[1])\n",
      "        return '\\n\\n'+ ('\\n%s\\n' % (sep,)).join(['|'.join([(' ' if _=='' else _) for _ in row]) for row in self.board])\n",
      "      \n",
      "    def leafScore(self) :\n",
      "        for goal in self.goals :\n",
      "            if np.all([self.board[_]=='X' for _ in goal]) :\n",
      "                return +1\n",
      "            elif np.all([self.board[_]=='O' for _ in goal]) :\n",
      "                return -1\n",
      "        return 0\n",
      "        \n",
      "    def L(self) :\n",
      "        return self.plays('X')\n",
      "    \n",
      "    def R(self) :\n",
      "        return self.plays('O')\n",
      "    \n",
      "    def play(self,square,XO) :\n",
      "        \"\"\"\n",
      "        Place a marker XO at the specified\n",
      "        square.  Square is a tuple that indicates\n",
      "        a location in the array self.board.\n",
      "        Return a new board.\n",
      "        \"\"\"\n",
      "        board = self.board.copy()\n",
      "        board[square] = XO\n",
      "        return TicTacToe(board)\n",
      "    \n",
      "    def plays(self,XO) :\n",
      "        retval = []\n",
      "        if self.leafScore() == 0 :\n",
      "            for square in itertools.product(*map(range,self.board.shape)) :\n",
      "                if self.board[square] == '' :\n",
      "                    retval.append(self.play(square,XO))\n",
      "        return retval"
     ],
     "language": "python",
     "metadata": {},
     "outputs": [],
     "prompt_number": 99
    },
    {
     "cell_type": "code",
     "collapsed": false,
     "input": [
      "g = TicTacToe(np.zeros((2,2),str))\n",
      "print g"
     ],
     "language": "python",
     "metadata": {},
     "outputs": [
      {
       "output_type": "stream",
       "stream": "stdout",
       "text": [
        "\n",
        "\n",
        " | \n",
        "-+-\n",
        " | \n"
       ]
      }
     ],
     "prompt_number": 101
    },
    {
     "cell_type": "code",
     "collapsed": false,
     "input": [
      "g.scoreL()"
     ],
     "language": "python",
     "metadata": {},
     "outputs": [
      {
       "metadata": {},
       "output_type": "pyout",
       "prompt_number": 102,
       "text": [
        "(1, \n",
        " \n",
        " X| \n",
        " -+-\n",
        " O|X, \n",
        " \n",
        " X| \n",
        " -+-\n",
        " O|X, \n",
        " \n",
        " X| \n",
        " -+-\n",
        " O| , \n",
        " \n",
        " X| \n",
        " -+-\n",
        "  | )"
       ]
      }
     ],
     "prompt_number": 102
    },
    {
     "cell_type": "code",
     "collapsed": false,
     "input": [
      "np.all([g1.board[_]=='X' for _ in g1.goals[0]])"
     ],
     "language": "python",
     "metadata": {},
     "outputs": [
      {
       "metadata": {},
       "output_type": "pyout",
       "prompt_number": 63,
       "text": [
        "True"
       ]
      }
     ],
     "prompt_number": 63
    },
    {
     "cell_type": "code",
     "collapsed": false,
     "input": [
      "g1"
     ],
     "language": "python",
     "metadata": {},
     "outputs": [
      {
       "metadata": {},
       "output_type": "pyout",
       "prompt_number": 64,
       "text": [
        "\n",
        "\n",
        "X|X|O\n",
        "-+-+-\n",
        "X|O|O\n",
        "-+-+-\n",
        "X| | "
       ]
      }
     ],
     "prompt_number": 64
    },
    {
     "cell_type": "code",
     "collapsed": false,
     "input": [
      "g1.goals"
     ],
     "language": "python",
     "metadata": {},
     "outputs": [
      {
       "metadata": {},
       "output_type": "pyout",
       "prompt_number": 52,
       "text": [
        "[[(0, 0), (1, 0), (2, 0)],\n",
        " [(0, 0), (0, 1), (0, 2)],\n",
        " [(0, 1), (1, 1), (2, 1)],\n",
        " [(1, 0), (1, 1), (1, 2)],\n",
        " [(0, 2), (1, 2), (2, 2)],\n",
        " [(2, 0), (2, 1), (2, 2)],\n",
        " [(0, 0), (1, 1), (2, 2)],\n",
        " [(2, 0), (1, 1), (0, 2)]]"
       ]
      }
     ],
     "prompt_number": 52
    },
    {
     "cell_type": "code",
     "collapsed": false,
     "input": [
      "g1.leafScore()"
     ],
     "language": "python",
     "metadata": {},
     "outputs": [
      {
       "metadata": {},
       "output_type": "pyout",
       "prompt_number": 65,
       "text": [
        "1"
       ]
      }
     ],
     "prompt_number": 65
    },
    {
     "cell_type": "code",
     "collapsed": false,
     "input": [],
     "language": "python",
     "metadata": {},
     "outputs": [],
     "prompt_number": 93
    },
    {
     "cell_type": "code",
     "collapsed": false,
     "input": [],
     "language": "python",
     "metadata": {},
     "outputs": []
    }
   ],
   "metadata": {}
  }
 ]
}