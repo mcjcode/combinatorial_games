{
 "metadata": {
  "name": "",
  "signature": "sha256:97aadfe152ea42efb1ea1464b5453e590af56c97e59d92483a300717451dc92a"
 },
 "nbformat": 3,
 "nbformat_minor": 0,
 "worksheets": [
  {
   "cells": [
    {
     "cell_type": "heading",
     "level": 2,
     "metadata": {},
     "source": [
      "Goal"
     ]
    },
    {
     "cell_type": "markdown",
     "metadata": {},
     "source": [
      "Write a python based 2048 game\n",
      "\n",
      "Make it easily generalizable to any number of possibly unequal dimensions\n",
      "\n",
      "Write automated players with tunable parameters\n",
      "\n",
      "Train players to optimize performance.\n",
      "\n",
      "What heuristics work?  How hard of a game is it?  Are there simple heuristics that work surprisingly well?"
     ]
    },
    {
     "cell_type": "heading",
     "level": 2,
     "metadata": {},
     "source": [
      "Implementation ideas"
     ]
    },
    {
     "cell_type": "markdown",
     "metadata": {},
     "source": [
      "Cleanest to implement as an (locally finite) combinatorial game\n",
      "\n",
      "So that we can try various forms of standard tree search heuristics.\n",
      "\n",
      "An asymmetric game (the computer is just an opponent with a different kind of move).  Our main interest is in the case of the 'random' computer opponent who places 2's and 4's in a 1:5 ratio in blank spaces on the board, but will support an active opponent who can try to thwart you too."
     ]
    },
    {
     "cell_type": "code",
     "collapsed": false,
     "input": [
      "import importlib\n",
      "import numpy as np"
     ],
     "language": "python",
     "metadata": {},
     "outputs": [],
     "prompt_number": 133
    },
    {
     "cell_type": "code",
     "collapsed": false,
     "input": [
      "import itertools\n",
      "from itertools import product"
     ],
     "language": "python",
     "metadata": {},
     "outputs": [],
     "prompt_number": 134
    },
    {
     "cell_type": "code",
     "collapsed": false,
     "input": [
      "# import the base class for asymmetric combinatorial\n",
      "# games, which is how we are choosing to model 2048,\n",
      "# with one 'player' choosing back or forth swiping\n",
      "# along each of the different axes, and the other\n",
      "# choosing where and what tile to place on the board.\n",
      "\n",
      "import combinatorial_games\n",
      "importlib.reload(combinatorial_games)\n",
      "from combinatorial_games import ACG"
     ],
     "language": "python",
     "metadata": {},
     "outputs": [],
     "prompt_number": 433
    },
    {
     "cell_type": "code",
     "collapsed": false,
     "input": [
      "class Game2048(ACG) :\n",
      "\n",
      "    #\n",
      "    # The 'computer' (right player), gets to play\n",
      "    # one of these tiles in a blank space on the board\n",
      "    # on his turn.\n",
      "    #\n",
      "    starting_tiles = [2,4]    \n",
      "    #\n",
      "    # Note that there is only *one* starting default\n",
      "    # board (i.e. the default argument is created at\n",
      "    # class definition time, not object instantiation\n",
      "    # time.).  This is OK.\n",
      "    #\n",
      "    def __init__(self,board=np.zeros((4,4),int),score=0) :\n",
      "        \"\"\"\n",
      "        Initialize a new instance of the 2048 game.  You\n",
      "        can pass in your own board and starting score,\n",
      "        or if you accept the default, you get a 4x4 board\n",
      "        and zero score.\n",
      "        \"\"\"\n",
      "        self.board = board\n",
      "        self.score = score\n",
      "        \n",
      "        shape = self.board.shape\n",
      "        self.idxs = np.array(np.fromfunction(lambda*_:_,shape),int)\n",
      "        #\n",
      "        # Should be able to replace this with a rollaxis call\n",
      "        #\n",
      "        self.idxs = self.idxs.transpose(list(range(1,len(shape)+1))+[0,])\n",
      "        self.idxs = self.idxs.reshape([np.product(shape)]+[len(shape)])\n",
      "        \n",
      "    def __repr__(self) :\n",
      "        return 'Game2048(board=array(\\n{}),score={})'.format(self.board,self.score)\n",
      "    \n",
      "    def __str__(self) :\n",
      "        return self.__repr__()\n",
      "\n",
      "    #\n",
      "    # Overriding from ACG.\n",
      "    #\n",
      "    # Left will play the role of the traditional player,\n",
      "    # and her possible moves will be those swipes that\n",
      "    # succeed in moving or merging some (any) tile on the\n",
      "    # board.  Swipes that do not succeed in moving or\n",
      "    # merging some tile on the board are not legitimate\n",
      "    # moves.\n",
      "    # \n",
      "    # If Left has no available move the game is over.\n",
      "    #\n",
      "    def L(self) :\n",
      "        left_moves = []\n",
      "        for axis,sgn in self.availableMoves() :\n",
      "            B, score = Game2048.tryMove(self.board,self.score,axis,sgn)\n",
      "            left_moves.append(Game2048(board=B,score=score))\n",
      "        return left_moves\n",
      "        \n",
      "    #\n",
      "    # Overriding from ACG.\n",
      "    #\n",
      "    # Right will play the role of the computer, and its\n",
      "    # possible moves will be the placement of a tile in\n",
      "    # an empty square on the board.  \n",
      "    #\n",
      "    # Since left has just moved and has either merged\n",
      "    # or moved a tile, there is always a place for Right\n",
      "    # to play, so this function will always return (a\n",
      "    # function that returns) a non-empty list.\n",
      "    #\n",
      "    def R(self) :\n",
      "        retval = []\n",
      "        blankCells = self.idxs[self.board.reshape((np.product(self.board.shape),))==0]\n",
      "        #\n",
      "        # Every combination of blank cell and possible seed\n",
      "        # tiles is possible.  Right's moves don't change the\n",
      "        # score.\n",
      "        #\n",
      "        # No need here to specify the probability distribution\n",
      "        # of plays.  In the standard game, there is a frequency\n",
      "        # distribution of plays that the computer makes, but\n",
      "        # we model that as a strategy of a particular player.\n",
      "        #\n",
      "        for blankCell, tile in itertools.product(blankCells, self.starting_tiles) :\n",
      "            boardCopy = self.board.copy()\n",
      "            boardCopy[tuple(blankCell)] = tile\n",
      "            retval.append(Game2048(board=boardCopy,score=self.score))\n",
      "        return retval\n",
      "    \n",
      "    #\n",
      "    # Overriding from ACG\n",
      "    #\n",
      "    def leafScore(self) :\n",
      "        return self.score\n",
      "\n",
      "    @classmethod\n",
      "    def compress(cls,Lin) :\n",
      "        score=0\n",
      "        n = len(Lin)\n",
      "        L = [xx for xx in Lin if xx!=0]\n",
      "        i = 0\n",
      "        while i < len(L)-1 :\n",
      "            if L[i]==L[i+1] :\n",
      "                L[i]=2*L[i]\n",
      "                score += L[i]\n",
      "                del L[i+1]\n",
      "            i += 1\n",
      "        L.extend([0]*(n-len(L)))\n",
      "        return L, score\n",
      "\n",
      "    def availableMoves(self) :\n",
      "        retval = []\n",
      "        for axis in range(len(self.board.shape)) :\n",
      "            for sgn in [+1,-1] :\n",
      "                B, _ = Game2048.tryMove(self.board,self.score,axis,sgn)\n",
      "                if np.any(B != self.board) :\n",
      "                    retval.append((axis,sgn))\n",
      "        return retval\n",
      "    \n",
      "    @classmethod\n",
      "    def tryMove(cls,board,score,axis,sgn) :\n",
      "        B = board.copy()\n",
      "        #\n",
      "        # Move the direction axis to the end\n",
      "        #\n",
      "        n = len(B.shape)\n",
      "        axes = [ (xx-(n-1)+axis)%n for xx in range(n) ]\n",
      "        B = B.transpose(axes)\n",
      "        #\n",
      "        # reshape the board into a list of\n",
      "        # vectors\n",
      "        #\n",
      "        Bshape=B.shape\n",
      "        #python 3000 did away with reduce\n",
      "        #nn = reduce(lambda x,y : x*y,Bshape[:-1],1)\n",
      "        nn = np.prod(Bshape[:-1])\n",
      "        B = B.reshape((nn,Bshape[-1]))\n",
      "        for ii, row in enumerate(B) :\n",
      "            if sgn == -1 :\n",
      "                row = list(reversed(row))\n",
      "            row,row_score = Game2048.compress(list(row))\n",
      "            score += row_score\n",
      "            if sgn == -1 :\n",
      "                row = list(reversed(row))\n",
      "            B[ii,:] = row\n",
      "        B = B.reshape(Bshape)\n",
      "        raxes = np.argsort(axes)\n",
      "        B = B.transpose(raxes)\n",
      "        return B, score"
     ],
     "language": "python",
     "metadata": {},
     "outputs": [],
     "prompt_number": 434
    },
    {
     "cell_type": "code",
     "collapsed": false,
     "input": [
      "class RandomLeftPlayer(object) :\n",
      "    def __init__(self) :\n",
      "        pass\n",
      "    \n",
      "    def chooseMove(self,game) :\n",
      "        moves = game.L()\n",
      "        movei = np.random.randint(len(moves))\n",
      "        return moves[movei]"
     ],
     "language": "python",
     "metadata": {},
     "outputs": [],
     "prompt_number": 369
    },
    {
     "cell_type": "code",
     "collapsed": false,
     "input": [
      "class RandomRightPlayer(object) :\n",
      "    \n",
      "    def __init__(self,p=1/6) :\n",
      "        self.p = p\n",
      "        pass\n",
      "    \n",
      "    def chooseMove(self,game) :\n",
      "        moves = game.R()\n",
      "        #\n",
      "        # half of the moves are going to be 2's\n",
      "        # and half of the moves are going to be 4's\n",
      "        #\n",
      "        # P(tile==4)=p, P(tile==2)=1-p\n",
      "        #\n",
      "        totwt = len(moves)/2\n",
      "        target=np.random.random()*len(moves)/2\n",
      "        cprob = 0.0\n",
      "        for move in moves :\n",
      "            if np.sum((move.board-game.board).ravel()) == 4 :\n",
      "                cprob += self.p\n",
      "            else :\n",
      "                cprob += 1-self.p\n",
      "            if cprob > target :\n",
      "                return move\n",
      "        return moves[-1]\n",
      "            \n",
      "            \n",
      "        return moves[movei]"
     ],
     "language": "python",
     "metadata": {},
     "outputs": [],
     "prompt_number": 414
    },
    {
     "cell_type": "code",
     "collapsed": false,
     "input": [
      "class MaxScoreLeftPlayer(object) :\n",
      "    \n",
      "    def __init__(self) :\n",
      "        pass\n",
      "    \n",
      "    def chooseMove(self,game) :\n",
      "        moves = game.L()\n",
      "        scores = [_.score for _ in moves]\n",
      "        max_score_i = np.argmax(scores)\n",
      "        return moves[max_score_i]"
     ],
     "language": "python",
     "metadata": {},
     "outputs": [],
     "prompt_number": 415
    },
    {
     "cell_type": "code",
     "collapsed": false,
     "input": [
      "class MaxScorePlayer2(object) :\n",
      "    \n",
      "    def __init__(self,shape) :\n",
      "        #\n",
      "        # Set up idxs, so that we can reuse this later\n",
      "        # and not recompute it with every call to scoreBoard\n",
      "        #\n",
      "        self.idxs = np.array(np.fromfunction(lambda*_:_,shape))\n",
      "        #\n",
      "        # I should be able to rollaxis here\n",
      "        #\n",
      "        self.idxs = self.idxs.transpose(list(range(1,len(shape)+1))+[0,])\n",
      "        self.idxs = self.idxs.reshape((np.product(shape),2))\n",
      "        #\n",
      "        # Do we penalize more for large differences\n",
      "        # between adjacent tiles than for small\n",
      "        # differences?\n",
      "        #\n",
      "        # alpha = 0.0 - No.  Any difference incurs an identical\n",
      "        # penalty.\n",
      "        #\n",
      "        # alpha = 1.0 - Penalty is proportional to the size of\n",
      "        # the difference of the log2's of the tiles.\n",
      "        #\n",
      "        self.alpha = 0.0\n",
      "        #\n",
      "        # power for the Lp norm used to evaluate the penalty for\n",
      "        # each tile.\n",
      "        #\n",
      "        # The bigger p is more we care about large differences.\n",
      "        # The smaller p is the \n",
      "        #\n",
      "        self.p = 1.0\n",
      "        \n",
      "    def scoreBoard(self,game) :\n",
      "        boardScore = 0\n",
      "        bshape = game.board.shape\n",
      "        for idx in self.idxs :\n",
      "            diffs =[]\n",
      "            for axis,sgn in product(range(len(bshape)),[+1,-1]) :\n",
      "                idx2 = idx.copy()\n",
      "                if 0 <= idx2[axis] + sgn < bshape[axis] :\n",
      "                    idx2[axis] += sgn\n",
      "                    n1 = np.log2(game.board[tuple(idx)])\n",
      "                    n2 = np.log2(game.board[tuple(idx2)])\n",
      "                    if self.alpha == 0 :\n",
      "                        diffs.append( 0 if n1==n2 else 1 )\n",
      "                    else :\n",
      "                        diffs.append(abs(max(0,n1) - max(0,n2))**self.alpha)\n",
      "            tileScore = (sum([_**self.p for _ in diffs]))**(1.0/self.p)\n",
      "        boardScore -= tileScore\n",
      "        return boardScore\n",
      "        \n",
      "    def chooseMove(self,game) :\n",
      "        return max(game.L(),key=lambda g : self.scoreBoard(g))    "
     ],
     "language": "python",
     "metadata": {},
     "outputs": [],
     "prompt_number": 416
    },
    {
     "cell_type": "code",
     "collapsed": false,
     "input": [
      "g=Game2048(board=np.array([[32768, 16384,8192,4096],\\\n",
      "                           [  256,   512,1024,2048],\\\n",
      "                           [  128,    64,  32,  16],\\\n",
      "                           [    2,     2,   4,   8]],int),score=0)"
     ],
     "language": "python",
     "metadata": {},
     "outputs": [],
     "prompt_number": 435
    },
    {
     "cell_type": "code",
     "collapsed": false,
     "input": [
      "g"
     ],
     "language": "python",
     "metadata": {},
     "outputs": [
      {
       "metadata": {},
       "output_type": "pyout",
       "prompt_number": 436,
       "text": [
        "Game2048(board=array(\n",
        "[[32768 16384  8192  4096]\n",
        " [  256   512  1024  2048]\n",
        " [  128    64    32    16]\n",
        " [    2     2     4     8]]),score=0)"
       ]
      }
     ],
     "prompt_number": 436
    },
    {
     "cell_type": "code",
     "collapsed": false,
     "input": [
      "g.L()"
     ],
     "language": "python",
     "metadata": {},
     "outputs": [
      {
       "metadata": {},
       "output_type": "pyout",
       "prompt_number": 437,
       "text": [
        "[Game2048(board=array(\n",
        " [[32768 16384  8192  4096]\n",
        "  [  256   512  1024  2048]\n",
        "  [  128    64    32    16]\n",
        "  [    4     4     8     0]]),score=4), Game2048(board=array(\n",
        " [[32768 16384  8192  4096]\n",
        "  [  256   512  1024  2048]\n",
        "  [  128    64    32    16]\n",
        "  [    0     4     4     8]]),score=4)]"
       ]
      }
     ],
     "prompt_number": 437
    },
    {
     "cell_type": "code",
     "collapsed": false,
     "input": [
      "g.R()"
     ],
     "language": "python",
     "metadata": {},
     "outputs": [
      {
       "metadata": {},
       "output_type": "pyout",
       "prompt_number": 438,
       "text": [
        "[]"
       ]
      }
     ],
     "prompt_number": 438
    },
    {
     "cell_type": "code",
     "collapsed": false,
     "input": [
      "g=Game2048(board=np.array([[32768, 16384,8192,4096],\\\n",
      "                           [  256,   512,1024,2048],\\\n",
      "                           [  128,    64,  32,  16],\\\n",
      "                           [    2,     2,   4,   8]],int),score=0)\n",
      "for i in range(20) :\n",
      "    print(i)\n",
      "    g=g.bestAtDepthL(depth=6)\n",
      "    print(g)"
     ],
     "language": "python",
     "metadata": {},
     "outputs": [
      {
       "output_type": "stream",
       "stream": "stdout",
       "text": [
        "0\n",
        "Game2048(board=array(\n",
        "[[32768 16384  8192  4096]\n",
        " [  256   512  1024  2048]\n",
        " [  128    64    32    32]\n",
        " [    2     4     2     0]]),score=60)"
       ]
      },
      {
       "output_type": "stream",
       "stream": "stdout",
       "text": [
        "\n",
        "1\n",
        "Game2048(board=array(\n",
        "[[32768 16384  8192  4096]\n",
        " [  512   512  1024  2048]\n",
        " [    2     2     4     2]\n",
        " [    0     4     2     0]]),score=1020)"
       ]
      },
      {
       "output_type": "stream",
       "stream": "stdout",
       "text": [
        "\n",
        "2\n",
        "Game2048(board=array(\n",
        "[[32768 16384  8192  8192]\n",
        " [    2     4     2     4]\n",
        " [    0     0     8     0]\n",
        " [    0     0     4     0]]),score=16396)"
       ]
      },
      {
       "output_type": "stream",
       "stream": "stdout",
       "text": [
        "\n",
        "3\n"
       ]
      },
      {
       "ename": "KeyboardInterrupt",
       "evalue": "",
       "output_type": "pyerr",
       "traceback": [
        "\u001b[0;31m---------------------------------------------------------------------------\u001b[0m\n\u001b[0;31mKeyboardInterrupt\u001b[0m                         Traceback (most recent call last)",
        "\u001b[0;32m<ipython-input-455-fb4e9f4996ba>\u001b[0m in \u001b[0;36m<module>\u001b[0;34m()\u001b[0m\n\u001b[1;32m      2\u001b[0m \u001b[0;32mfor\u001b[0m \u001b[0mi\u001b[0m \u001b[0;32min\u001b[0m \u001b[0mrange\u001b[0m\u001b[0;34m(\u001b[0m\u001b[0;36m20\u001b[0m\u001b[0;34m)\u001b[0m \u001b[0;34m:\u001b[0m\u001b[0;34m\u001b[0m\u001b[0m\n\u001b[1;32m      3\u001b[0m     \u001b[0mprint\u001b[0m\u001b[0;34m(\u001b[0m\u001b[0mi\u001b[0m\u001b[0;34m)\u001b[0m\u001b[0;34m\u001b[0m\u001b[0m\n\u001b[0;32m----> 4\u001b[0;31m     \u001b[0mg\u001b[0m\u001b[0;34m=\u001b[0m\u001b[0mg\u001b[0m\u001b[0;34m.\u001b[0m\u001b[0mbestAtDepthL\u001b[0m\u001b[0;34m(\u001b[0m\u001b[0mdepth\u001b[0m\u001b[0;34m=\u001b[0m\u001b[0;36m6\u001b[0m\u001b[0;34m)\u001b[0m\u001b[0;34m\u001b[0m\u001b[0m\n\u001b[0m\u001b[1;32m      5\u001b[0m     \u001b[0mprint\u001b[0m\u001b[0;34m(\u001b[0m\u001b[0mg\u001b[0m\u001b[0;34m)\u001b[0m\u001b[0;34m\u001b[0m\u001b[0m\n",
        "\u001b[0;32m/Users/catalano_johnson/python/combinatorial_games.py\u001b[0m in \u001b[0;36mbestAtDepthL\u001b[0;34m(self, depth, scoreFunc)\u001b[0m\n\u001b[1;32m    204\u001b[0m         \u001b[0;32mfor\u001b[0m \u001b[0mg\u001b[0m \u001b[0;32min\u001b[0m \u001b[0mself\u001b[0m\u001b[0;34m.\u001b[0m\u001b[0mL\u001b[0m\u001b[0;34m(\u001b[0m\u001b[0;34m)\u001b[0m \u001b[0;34m:\u001b[0m\u001b[0;34m\u001b[0m\u001b[0m\n\u001b[1;32m    205\u001b[0m             \u001b[0;32mif\u001b[0m \u001b[0mdepth\u001b[0m \u001b[0;34m>\u001b[0m \u001b[0;36m0\u001b[0m \u001b[0;34m:\u001b[0m\u001b[0;34m\u001b[0m\u001b[0m\n\u001b[0;32m--> 206\u001b[0;31m                 \u001b[0mg\u001b[0m \u001b[0;34m=\u001b[0m \u001b[0mg\u001b[0m\u001b[0;34m.\u001b[0m\u001b[0mbestAtDepthR\u001b[0m\u001b[0;34m(\u001b[0m\u001b[0mdepth\u001b[0m\u001b[0;34m=\u001b[0m\u001b[0mdepth\u001b[0m\u001b[0;34m-\u001b[0m\u001b[0;36m1\u001b[0m\u001b[0;34m,\u001b[0m\u001b[0mscoreFunc\u001b[0m\u001b[0;34m=\u001b[0m\u001b[0mscoreFunc\u001b[0m\u001b[0;34m)\u001b[0m\u001b[0;34m\u001b[0m\u001b[0m\n\u001b[0m\u001b[1;32m    207\u001b[0m             \u001b[0mscore\u001b[0m \u001b[0;34m=\u001b[0m \u001b[0mscoreFunc\u001b[0m\u001b[0;34m(\u001b[0m\u001b[0mg\u001b[0m\u001b[0;34m)\u001b[0m\u001b[0;34m\u001b[0m\u001b[0m\n\u001b[1;32m    208\u001b[0m             \u001b[0;32mif\u001b[0m \u001b[0mscore\u001b[0m \u001b[0;34m>\u001b[0m \u001b[0mmax_score\u001b[0m \u001b[0;34m:\u001b[0m\u001b[0;34m\u001b[0m\u001b[0m\n",
        "\u001b[0;32m/Users/catalano_johnson/python/combinatorial_games.py\u001b[0m in \u001b[0;36mbestAtDepthR\u001b[0;34m(self, depth, scoreFunc)\u001b[0m\n\u001b[1;32m    225\u001b[0m         \u001b[0;32mfor\u001b[0m \u001b[0mg\u001b[0m \u001b[0;32min\u001b[0m \u001b[0mself\u001b[0m\u001b[0;34m.\u001b[0m\u001b[0mR\u001b[0m\u001b[0;34m(\u001b[0m\u001b[0;34m)\u001b[0m \u001b[0;34m:\u001b[0m\u001b[0;34m\u001b[0m\u001b[0m\n\u001b[1;32m    226\u001b[0m             \u001b[0;32mif\u001b[0m \u001b[0mdepth\u001b[0m \u001b[0;34m>\u001b[0m \u001b[0;36m0\u001b[0m \u001b[0;34m:\u001b[0m\u001b[0;34m\u001b[0m\u001b[0m\n\u001b[0;32m--> 227\u001b[0;31m                 \u001b[0mg\u001b[0m \u001b[0;34m=\u001b[0m \u001b[0mg\u001b[0m\u001b[0;34m.\u001b[0m\u001b[0mbestAtDepthL\u001b[0m\u001b[0;34m(\u001b[0m\u001b[0mdepth\u001b[0m\u001b[0;34m=\u001b[0m\u001b[0mdepth\u001b[0m\u001b[0;34m-\u001b[0m\u001b[0;36m1\u001b[0m\u001b[0;34m,\u001b[0m\u001b[0mscoreFunc\u001b[0m\u001b[0;34m=\u001b[0m\u001b[0mscoreFunc\u001b[0m\u001b[0;34m)\u001b[0m\u001b[0;34m\u001b[0m\u001b[0m\n\u001b[0m\u001b[1;32m    228\u001b[0m             \u001b[0mscore\u001b[0m \u001b[0;34m=\u001b[0m \u001b[0mscoreFunc\u001b[0m\u001b[0;34m(\u001b[0m\u001b[0mg\u001b[0m\u001b[0;34m)\u001b[0m\u001b[0;34m\u001b[0m\u001b[0m\n\u001b[1;32m    229\u001b[0m             \u001b[0;32mif\u001b[0m \u001b[0mscore\u001b[0m \u001b[0;34m<\u001b[0m \u001b[0mmin_score\u001b[0m \u001b[0;34m:\u001b[0m\u001b[0;34m\u001b[0m\u001b[0m\n",
        "\u001b[0;32m/Users/catalano_johnson/python/combinatorial_games.py\u001b[0m in \u001b[0;36mbestAtDepthL\u001b[0;34m(self, depth, scoreFunc)\u001b[0m\n\u001b[1;32m    204\u001b[0m         \u001b[0;32mfor\u001b[0m \u001b[0mg\u001b[0m \u001b[0;32min\u001b[0m \u001b[0mself\u001b[0m\u001b[0;34m.\u001b[0m\u001b[0mL\u001b[0m\u001b[0;34m(\u001b[0m\u001b[0;34m)\u001b[0m \u001b[0;34m:\u001b[0m\u001b[0;34m\u001b[0m\u001b[0m\n\u001b[1;32m    205\u001b[0m             \u001b[0;32mif\u001b[0m \u001b[0mdepth\u001b[0m \u001b[0;34m>\u001b[0m \u001b[0;36m0\u001b[0m \u001b[0;34m:\u001b[0m\u001b[0;34m\u001b[0m\u001b[0m\n\u001b[0;32m--> 206\u001b[0;31m                 \u001b[0mg\u001b[0m \u001b[0;34m=\u001b[0m \u001b[0mg\u001b[0m\u001b[0;34m.\u001b[0m\u001b[0mbestAtDepthR\u001b[0m\u001b[0;34m(\u001b[0m\u001b[0mdepth\u001b[0m\u001b[0;34m=\u001b[0m\u001b[0mdepth\u001b[0m\u001b[0;34m-\u001b[0m\u001b[0;36m1\u001b[0m\u001b[0;34m,\u001b[0m\u001b[0mscoreFunc\u001b[0m\u001b[0;34m=\u001b[0m\u001b[0mscoreFunc\u001b[0m\u001b[0;34m)\u001b[0m\u001b[0;34m\u001b[0m\u001b[0m\n\u001b[0m\u001b[1;32m    207\u001b[0m             \u001b[0mscore\u001b[0m \u001b[0;34m=\u001b[0m \u001b[0mscoreFunc\u001b[0m\u001b[0;34m(\u001b[0m\u001b[0mg\u001b[0m\u001b[0;34m)\u001b[0m\u001b[0;34m\u001b[0m\u001b[0m\n\u001b[1;32m    208\u001b[0m             \u001b[0;32mif\u001b[0m \u001b[0mscore\u001b[0m \u001b[0;34m>\u001b[0m \u001b[0mmax_score\u001b[0m \u001b[0;34m:\u001b[0m\u001b[0;34m\u001b[0m\u001b[0m\n",
        "\u001b[0;32m/Users/catalano_johnson/python/combinatorial_games.py\u001b[0m in \u001b[0;36mbestAtDepthR\u001b[0;34m(self, depth, scoreFunc)\u001b[0m\n\u001b[1;32m    225\u001b[0m         \u001b[0;32mfor\u001b[0m \u001b[0mg\u001b[0m \u001b[0;32min\u001b[0m \u001b[0mself\u001b[0m\u001b[0;34m.\u001b[0m\u001b[0mR\u001b[0m\u001b[0;34m(\u001b[0m\u001b[0;34m)\u001b[0m \u001b[0;34m:\u001b[0m\u001b[0;34m\u001b[0m\u001b[0m\n\u001b[1;32m    226\u001b[0m             \u001b[0;32mif\u001b[0m \u001b[0mdepth\u001b[0m \u001b[0;34m>\u001b[0m \u001b[0;36m0\u001b[0m \u001b[0;34m:\u001b[0m\u001b[0;34m\u001b[0m\u001b[0m\n\u001b[0;32m--> 227\u001b[0;31m                 \u001b[0mg\u001b[0m \u001b[0;34m=\u001b[0m \u001b[0mg\u001b[0m\u001b[0;34m.\u001b[0m\u001b[0mbestAtDepthL\u001b[0m\u001b[0;34m(\u001b[0m\u001b[0mdepth\u001b[0m\u001b[0;34m=\u001b[0m\u001b[0mdepth\u001b[0m\u001b[0;34m-\u001b[0m\u001b[0;36m1\u001b[0m\u001b[0;34m,\u001b[0m\u001b[0mscoreFunc\u001b[0m\u001b[0;34m=\u001b[0m\u001b[0mscoreFunc\u001b[0m\u001b[0;34m)\u001b[0m\u001b[0;34m\u001b[0m\u001b[0m\n\u001b[0m\u001b[1;32m    228\u001b[0m             \u001b[0mscore\u001b[0m \u001b[0;34m=\u001b[0m \u001b[0mscoreFunc\u001b[0m\u001b[0;34m(\u001b[0m\u001b[0mg\u001b[0m\u001b[0;34m)\u001b[0m\u001b[0;34m\u001b[0m\u001b[0m\n\u001b[1;32m    229\u001b[0m             \u001b[0;32mif\u001b[0m \u001b[0mscore\u001b[0m \u001b[0;34m<\u001b[0m \u001b[0mmin_score\u001b[0m \u001b[0;34m:\u001b[0m\u001b[0;34m\u001b[0m\u001b[0m\n",
        "\u001b[0;32m/Users/catalano_johnson/python/combinatorial_games.py\u001b[0m in \u001b[0;36mbestAtDepthL\u001b[0;34m(self, depth, scoreFunc)\u001b[0m\n\u001b[1;32m    204\u001b[0m         \u001b[0;32mfor\u001b[0m \u001b[0mg\u001b[0m \u001b[0;32min\u001b[0m \u001b[0mself\u001b[0m\u001b[0;34m.\u001b[0m\u001b[0mL\u001b[0m\u001b[0;34m(\u001b[0m\u001b[0;34m)\u001b[0m \u001b[0;34m:\u001b[0m\u001b[0;34m\u001b[0m\u001b[0m\n\u001b[1;32m    205\u001b[0m             \u001b[0;32mif\u001b[0m \u001b[0mdepth\u001b[0m \u001b[0;34m>\u001b[0m \u001b[0;36m0\u001b[0m \u001b[0;34m:\u001b[0m\u001b[0;34m\u001b[0m\u001b[0m\n\u001b[0;32m--> 206\u001b[0;31m                 \u001b[0mg\u001b[0m \u001b[0;34m=\u001b[0m \u001b[0mg\u001b[0m\u001b[0;34m.\u001b[0m\u001b[0mbestAtDepthR\u001b[0m\u001b[0;34m(\u001b[0m\u001b[0mdepth\u001b[0m\u001b[0;34m=\u001b[0m\u001b[0mdepth\u001b[0m\u001b[0;34m-\u001b[0m\u001b[0;36m1\u001b[0m\u001b[0;34m,\u001b[0m\u001b[0mscoreFunc\u001b[0m\u001b[0;34m=\u001b[0m\u001b[0mscoreFunc\u001b[0m\u001b[0;34m)\u001b[0m\u001b[0;34m\u001b[0m\u001b[0m\n\u001b[0m\u001b[1;32m    207\u001b[0m             \u001b[0mscore\u001b[0m \u001b[0;34m=\u001b[0m \u001b[0mscoreFunc\u001b[0m\u001b[0;34m(\u001b[0m\u001b[0mg\u001b[0m\u001b[0;34m)\u001b[0m\u001b[0;34m\u001b[0m\u001b[0m\n\u001b[1;32m    208\u001b[0m             \u001b[0;32mif\u001b[0m \u001b[0mscore\u001b[0m \u001b[0;34m>\u001b[0m \u001b[0mmax_score\u001b[0m \u001b[0;34m:\u001b[0m\u001b[0;34m\u001b[0m\u001b[0m\n",
        "\u001b[0;32m/Users/catalano_johnson/python/combinatorial_games.py\u001b[0m in \u001b[0;36mbestAtDepthR\u001b[0;34m(self, depth, scoreFunc)\u001b[0m\n\u001b[1;32m    225\u001b[0m         \u001b[0;32mfor\u001b[0m \u001b[0mg\u001b[0m \u001b[0;32min\u001b[0m \u001b[0mself\u001b[0m\u001b[0;34m.\u001b[0m\u001b[0mR\u001b[0m\u001b[0;34m(\u001b[0m\u001b[0;34m)\u001b[0m \u001b[0;34m:\u001b[0m\u001b[0;34m\u001b[0m\u001b[0m\n\u001b[1;32m    226\u001b[0m             \u001b[0;32mif\u001b[0m \u001b[0mdepth\u001b[0m \u001b[0;34m>\u001b[0m \u001b[0;36m0\u001b[0m \u001b[0;34m:\u001b[0m\u001b[0;34m\u001b[0m\u001b[0m\n\u001b[0;32m--> 227\u001b[0;31m                 \u001b[0mg\u001b[0m \u001b[0;34m=\u001b[0m \u001b[0mg\u001b[0m\u001b[0;34m.\u001b[0m\u001b[0mbestAtDepthL\u001b[0m\u001b[0;34m(\u001b[0m\u001b[0mdepth\u001b[0m\u001b[0;34m=\u001b[0m\u001b[0mdepth\u001b[0m\u001b[0;34m-\u001b[0m\u001b[0;36m1\u001b[0m\u001b[0;34m,\u001b[0m\u001b[0mscoreFunc\u001b[0m\u001b[0;34m=\u001b[0m\u001b[0mscoreFunc\u001b[0m\u001b[0;34m)\u001b[0m\u001b[0;34m\u001b[0m\u001b[0m\n\u001b[0m\u001b[1;32m    228\u001b[0m             \u001b[0mscore\u001b[0m \u001b[0;34m=\u001b[0m \u001b[0mscoreFunc\u001b[0m\u001b[0;34m(\u001b[0m\u001b[0mg\u001b[0m\u001b[0;34m)\u001b[0m\u001b[0;34m\u001b[0m\u001b[0m\n\u001b[1;32m    229\u001b[0m             \u001b[0;32mif\u001b[0m \u001b[0mscore\u001b[0m \u001b[0;34m<\u001b[0m \u001b[0mmin_score\u001b[0m \u001b[0;34m:\u001b[0m\u001b[0;34m\u001b[0m\u001b[0m\n",
        "\u001b[0;32m/Users/catalano_johnson/python/combinatorial_games.py\u001b[0m in \u001b[0;36mbestAtDepthL\u001b[0;34m(self, depth, scoreFunc)\u001b[0m\n\u001b[1;32m    202\u001b[0m         \u001b[0mmax_score\u001b[0m \u001b[0;34m=\u001b[0m \u001b[0mACG\u001b[0m\u001b[0;34m.\u001b[0m\u001b[0mminf\u001b[0m\u001b[0;34m\u001b[0m\u001b[0m\n\u001b[1;32m    203\u001b[0m         \u001b[0mmax_L\u001b[0m \u001b[0;34m=\u001b[0m \u001b[0;32mNone\u001b[0m\u001b[0;34m\u001b[0m\u001b[0m\n\u001b[0;32m--> 204\u001b[0;31m         \u001b[0;32mfor\u001b[0m \u001b[0mg\u001b[0m \u001b[0;32min\u001b[0m \u001b[0mself\u001b[0m\u001b[0;34m.\u001b[0m\u001b[0mL\u001b[0m\u001b[0;34m(\u001b[0m\u001b[0;34m)\u001b[0m \u001b[0;34m:\u001b[0m\u001b[0;34m\u001b[0m\u001b[0m\n\u001b[0m\u001b[1;32m    205\u001b[0m             \u001b[0;32mif\u001b[0m \u001b[0mdepth\u001b[0m \u001b[0;34m>\u001b[0m \u001b[0;36m0\u001b[0m \u001b[0;34m:\u001b[0m\u001b[0;34m\u001b[0m\u001b[0m\n\u001b[1;32m    206\u001b[0m                 \u001b[0mg\u001b[0m \u001b[0;34m=\u001b[0m \u001b[0mg\u001b[0m\u001b[0;34m.\u001b[0m\u001b[0mbestAtDepthR\u001b[0m\u001b[0;34m(\u001b[0m\u001b[0mdepth\u001b[0m\u001b[0;34m=\u001b[0m\u001b[0mdepth\u001b[0m\u001b[0;34m-\u001b[0m\u001b[0;36m1\u001b[0m\u001b[0;34m,\u001b[0m\u001b[0mscoreFunc\u001b[0m\u001b[0;34m=\u001b[0m\u001b[0mscoreFunc\u001b[0m\u001b[0;34m)\u001b[0m\u001b[0;34m\u001b[0m\u001b[0m\n",
        "\u001b[0;32m<ipython-input-434-1fc72ed1eb31>\u001b[0m in \u001b[0;36mL\u001b[0;34m(self)\u001b[0m\n\u001b[1;32m     52\u001b[0m         \u001b[0mleft_moves\u001b[0m \u001b[0;34m=\u001b[0m \u001b[0;34m[\u001b[0m\u001b[0;34m]\u001b[0m\u001b[0;34m\u001b[0m\u001b[0m\n\u001b[1;32m     53\u001b[0m         \u001b[0;32mfor\u001b[0m \u001b[0maxis\u001b[0m\u001b[0;34m,\u001b[0m\u001b[0msgn\u001b[0m \u001b[0;32min\u001b[0m \u001b[0mself\u001b[0m\u001b[0;34m.\u001b[0m\u001b[0mavailableMoves\u001b[0m\u001b[0;34m(\u001b[0m\u001b[0;34m)\u001b[0m \u001b[0;34m:\u001b[0m\u001b[0;34m\u001b[0m\u001b[0m\n\u001b[0;32m---> 54\u001b[0;31m             \u001b[0mB\u001b[0m\u001b[0;34m,\u001b[0m \u001b[0mscore\u001b[0m \u001b[0;34m=\u001b[0m \u001b[0mGame2048\u001b[0m\u001b[0;34m.\u001b[0m\u001b[0mtryMove\u001b[0m\u001b[0;34m(\u001b[0m\u001b[0mself\u001b[0m\u001b[0;34m.\u001b[0m\u001b[0mboard\u001b[0m\u001b[0;34m,\u001b[0m\u001b[0mself\u001b[0m\u001b[0;34m.\u001b[0m\u001b[0mscore\u001b[0m\u001b[0;34m,\u001b[0m\u001b[0maxis\u001b[0m\u001b[0;34m,\u001b[0m\u001b[0msgn\u001b[0m\u001b[0;34m)\u001b[0m\u001b[0;34m\u001b[0m\u001b[0m\n\u001b[0m\u001b[1;32m     55\u001b[0m             \u001b[0mleft_moves\u001b[0m\u001b[0;34m.\u001b[0m\u001b[0mappend\u001b[0m\u001b[0;34m(\u001b[0m\u001b[0mGame2048\u001b[0m\u001b[0;34m(\u001b[0m\u001b[0mboard\u001b[0m\u001b[0;34m=\u001b[0m\u001b[0mB\u001b[0m\u001b[0;34m,\u001b[0m\u001b[0mscore\u001b[0m\u001b[0;34m=\u001b[0m\u001b[0mscore\u001b[0m\u001b[0;34m)\u001b[0m\u001b[0;34m)\u001b[0m\u001b[0;34m\u001b[0m\u001b[0m\n\u001b[1;32m     56\u001b[0m         \u001b[0;32mreturn\u001b[0m \u001b[0mleft_moves\u001b[0m\u001b[0;34m\u001b[0m\u001b[0m\n",
        "\u001b[0;32m<ipython-input-434-1fc72ed1eb31>\u001b[0m in \u001b[0;36mtryMove\u001b[0;34m(cls, board, score, axis, sgn)\u001b[0m\n\u001b[1;32m    138\u001b[0m             \u001b[0;32mif\u001b[0m \u001b[0msgn\u001b[0m \u001b[0;34m==\u001b[0m \u001b[0;34m-\u001b[0m\u001b[0;36m1\u001b[0m \u001b[0;34m:\u001b[0m\u001b[0;34m\u001b[0m\u001b[0m\n\u001b[1;32m    139\u001b[0m                 \u001b[0mrow\u001b[0m \u001b[0;34m=\u001b[0m \u001b[0mlist\u001b[0m\u001b[0;34m(\u001b[0m\u001b[0mreversed\u001b[0m\u001b[0;34m(\u001b[0m\u001b[0mrow\u001b[0m\u001b[0;34m)\u001b[0m\u001b[0;34m)\u001b[0m\u001b[0;34m\u001b[0m\u001b[0m\n\u001b[0;32m--> 140\u001b[0;31m             \u001b[0mrow\u001b[0m\u001b[0;34m,\u001b[0m\u001b[0mrow_score\u001b[0m \u001b[0;34m=\u001b[0m \u001b[0mGame2048\u001b[0m\u001b[0;34m.\u001b[0m\u001b[0mcompress\u001b[0m\u001b[0;34m(\u001b[0m\u001b[0mlist\u001b[0m\u001b[0;34m(\u001b[0m\u001b[0mrow\u001b[0m\u001b[0;34m)\u001b[0m\u001b[0;34m)\u001b[0m\u001b[0;34m\u001b[0m\u001b[0m\n\u001b[0m\u001b[1;32m    141\u001b[0m             \u001b[0mscore\u001b[0m \u001b[0;34m+=\u001b[0m \u001b[0mrow_score\u001b[0m\u001b[0;34m\u001b[0m\u001b[0m\n\u001b[1;32m    142\u001b[0m             \u001b[0;32mif\u001b[0m \u001b[0msgn\u001b[0m \u001b[0;34m==\u001b[0m \u001b[0;34m-\u001b[0m\u001b[0;36m1\u001b[0m \u001b[0;34m:\u001b[0m\u001b[0;34m\u001b[0m\u001b[0m\n",
        "\u001b[0;32m<ipython-input-434-1fc72ed1eb31>\u001b[0m in \u001b[0;36mcompress\u001b[0;34m(cls, Lin)\u001b[0m\n\u001b[1;32m    102\u001b[0m             \u001b[0;32mif\u001b[0m \u001b[0mL\u001b[0m\u001b[0;34m[\u001b[0m\u001b[0mi\u001b[0m\u001b[0;34m]\u001b[0m\u001b[0;34m==\u001b[0m\u001b[0mL\u001b[0m\u001b[0;34m[\u001b[0m\u001b[0mi\u001b[0m\u001b[0;34m+\u001b[0m\u001b[0;36m1\u001b[0m\u001b[0;34m]\u001b[0m \u001b[0;34m:\u001b[0m\u001b[0;34m\u001b[0m\u001b[0m\n\u001b[1;32m    103\u001b[0m                 \u001b[0mL\u001b[0m\u001b[0;34m[\u001b[0m\u001b[0mi\u001b[0m\u001b[0;34m]\u001b[0m\u001b[0;34m=\u001b[0m\u001b[0;36m2\u001b[0m\u001b[0;34m*\u001b[0m\u001b[0mL\u001b[0m\u001b[0;34m[\u001b[0m\u001b[0mi\u001b[0m\u001b[0;34m]\u001b[0m\u001b[0;34m\u001b[0m\u001b[0m\n\u001b[0;32m--> 104\u001b[0;31m                 \u001b[0mscore\u001b[0m \u001b[0;34m+=\u001b[0m \u001b[0mL\u001b[0m\u001b[0;34m[\u001b[0m\u001b[0mi\u001b[0m\u001b[0;34m]\u001b[0m\u001b[0;34m\u001b[0m\u001b[0m\n\u001b[0m\u001b[1;32m    105\u001b[0m                 \u001b[0;32mdel\u001b[0m \u001b[0mL\u001b[0m\u001b[0;34m[\u001b[0m\u001b[0mi\u001b[0m\u001b[0;34m+\u001b[0m\u001b[0;36m1\u001b[0m\u001b[0;34m]\u001b[0m\u001b[0;34m\u001b[0m\u001b[0m\n\u001b[1;32m    106\u001b[0m             \u001b[0mi\u001b[0m \u001b[0;34m+=\u001b[0m \u001b[0;36m1\u001b[0m\u001b[0;34m\u001b[0m\u001b[0m\n",
        "\u001b[0;31mKeyboardInterrupt\u001b[0m: "
       ]
      }
     ],
     "prompt_number": 455
    },
    {
     "cell_type": "code",
     "collapsed": false,
     "input": [
      "g.bestAtDepthR()"
     ],
     "language": "python",
     "metadata": {},
     "outputs": [
      {
       "metadata": {},
       "output_type": "pyout",
       "prompt_number": 147,
       "text": [
        "Game2048(board=array([[1024,  512,  256,  128],\n",
        "       [   8,   16,   32,   64],\n",
        "       [   4,    2,    0,    0],\n",
        "       [   0,    0,    0,    0]]),score=0)"
       ]
      }
     ],
     "prompt_number": 147
    },
    {
     "cell_type": "code",
     "collapsed": false,
     "input": [
      "import time"
     ],
     "language": "python",
     "metadata": {},
     "outputs": [],
     "prompt_number": 209
    },
    {
     "cell_type": "code",
     "collapsed": false,
     "input": [
      "left = MaxScorePlayer2(game.board.shape) # RandomLeftPlayer()\n",
      "right = RandomRightPlayer()\n",
      "scores = []\n",
      "print(0,end='',flush=True)\n",
      "for i in range(100) :\n",
      "    game = Game2048()\n",
      "    game = right.chooseMove(game)\n",
      "    game = right.chooseMove(game)\n",
      "    lmoves = game.L()\n",
      "    while lmoves :\n",
      "        game = left.chooseMove(game)\n",
      "        game = right.chooseMove(game)\n",
      "        lmoves = game.L()\n",
      "    scores.append(game.score)\n",
      "    print(',{}'.format(i+1),end='',flush=True)\n",
      "print('')\n",
      "print(np.mean(scores),np.std(scores))"
     ],
     "language": "python",
     "metadata": {},
     "outputs": [
      {
       "output_type": "stream",
       "stream": "stdout",
       "text": [
        "0"
       ]
      },
      {
       "output_type": "stream",
       "stream": "stdout",
       "text": [
        ",1"
       ]
      },
      {
       "output_type": "stream",
       "stream": "stdout",
       "text": [
        ",2"
       ]
      },
      {
       "output_type": "stream",
       "stream": "stdout",
       "text": [
        ",3"
       ]
      },
      {
       "output_type": "stream",
       "stream": "stdout",
       "text": [
        ",4"
       ]
      },
      {
       "output_type": "stream",
       "stream": "stdout",
       "text": [
        ",5"
       ]
      },
      {
       "output_type": "stream",
       "stream": "stdout",
       "text": [
        ",6"
       ]
      },
      {
       "output_type": "stream",
       "stream": "stdout",
       "text": [
        ",7"
       ]
      },
      {
       "output_type": "stream",
       "stream": "stdout",
       "text": [
        ",8"
       ]
      },
      {
       "output_type": "stream",
       "stream": "stdout",
       "text": [
        ",9"
       ]
      },
      {
       "output_type": "stream",
       "stream": "stdout",
       "text": [
        ",10"
       ]
      },
      {
       "output_type": "stream",
       "stream": "stdout",
       "text": [
        ",11"
       ]
      },
      {
       "output_type": "stream",
       "stream": "stdout",
       "text": [
        ",12"
       ]
      },
      {
       "output_type": "stream",
       "stream": "stdout",
       "text": [
        ",13"
       ]
      },
      {
       "output_type": "stream",
       "stream": "stdout",
       "text": [
        ",14"
       ]
      },
      {
       "output_type": "stream",
       "stream": "stdout",
       "text": [
        ",15"
       ]
      },
      {
       "output_type": "stream",
       "stream": "stdout",
       "text": [
        ",16"
       ]
      },
      {
       "output_type": "stream",
       "stream": "stdout",
       "text": [
        ",17"
       ]
      },
      {
       "output_type": "stream",
       "stream": "stdout",
       "text": [
        ",18"
       ]
      },
      {
       "output_type": "stream",
       "stream": "stdout",
       "text": [
        ",19"
       ]
      },
      {
       "output_type": "stream",
       "stream": "stdout",
       "text": [
        ",20"
       ]
      },
      {
       "output_type": "stream",
       "stream": "stdout",
       "text": [
        ",21"
       ]
      },
      {
       "output_type": "stream",
       "stream": "stdout",
       "text": [
        ",22"
       ]
      },
      {
       "output_type": "stream",
       "stream": "stdout",
       "text": [
        ",23"
       ]
      },
      {
       "output_type": "stream",
       "stream": "stdout",
       "text": [
        ",24"
       ]
      },
      {
       "output_type": "stream",
       "stream": "stdout",
       "text": [
        ",25"
       ]
      },
      {
       "output_type": "stream",
       "stream": "stdout",
       "text": [
        ",26"
       ]
      },
      {
       "output_type": "stream",
       "stream": "stdout",
       "text": [
        ",27"
       ]
      },
      {
       "output_type": "stream",
       "stream": "stdout",
       "text": [
        ",28"
       ]
      },
      {
       "output_type": "stream",
       "stream": "stdout",
       "text": [
        ",29"
       ]
      },
      {
       "output_type": "stream",
       "stream": "stdout",
       "text": [
        ",30"
       ]
      },
      {
       "output_type": "stream",
       "stream": "stdout",
       "text": [
        ",31"
       ]
      },
      {
       "output_type": "stream",
       "stream": "stdout",
       "text": [
        ",32"
       ]
      },
      {
       "output_type": "stream",
       "stream": "stdout",
       "text": [
        ",33"
       ]
      },
      {
       "output_type": "stream",
       "stream": "stdout",
       "text": [
        ",34"
       ]
      },
      {
       "output_type": "stream",
       "stream": "stdout",
       "text": [
        ",35"
       ]
      },
      {
       "output_type": "stream",
       "stream": "stdout",
       "text": [
        ",36"
       ]
      },
      {
       "output_type": "stream",
       "stream": "stdout",
       "text": [
        ",37"
       ]
      },
      {
       "output_type": "stream",
       "stream": "stdout",
       "text": [
        ",38"
       ]
      },
      {
       "output_type": "stream",
       "stream": "stdout",
       "text": [
        ",39"
       ]
      },
      {
       "output_type": "stream",
       "stream": "stdout",
       "text": [
        ",40"
       ]
      },
      {
       "output_type": "stream",
       "stream": "stdout",
       "text": [
        ",41"
       ]
      },
      {
       "output_type": "stream",
       "stream": "stdout",
       "text": [
        ",42"
       ]
      },
      {
       "output_type": "stream",
       "stream": "stdout",
       "text": [
        ",43"
       ]
      },
      {
       "output_type": "stream",
       "stream": "stdout",
       "text": [
        ",44"
       ]
      },
      {
       "output_type": "stream",
       "stream": "stdout",
       "text": [
        ",45"
       ]
      },
      {
       "output_type": "stream",
       "stream": "stdout",
       "text": [
        ",46"
       ]
      },
      {
       "output_type": "stream",
       "stream": "stdout",
       "text": [
        ",47"
       ]
      },
      {
       "output_type": "stream",
       "stream": "stdout",
       "text": [
        ",48"
       ]
      },
      {
       "output_type": "stream",
       "stream": "stdout",
       "text": [
        ",49"
       ]
      },
      {
       "output_type": "stream",
       "stream": "stdout",
       "text": [
        ",50"
       ]
      },
      {
       "output_type": "stream",
       "stream": "stdout",
       "text": [
        ",51"
       ]
      },
      {
       "output_type": "stream",
       "stream": "stdout",
       "text": [
        ",52"
       ]
      },
      {
       "output_type": "stream",
       "stream": "stdout",
       "text": [
        ",53"
       ]
      },
      {
       "output_type": "stream",
       "stream": "stdout",
       "text": [
        ",54"
       ]
      },
      {
       "output_type": "stream",
       "stream": "stdout",
       "text": [
        ",55"
       ]
      },
      {
       "output_type": "stream",
       "stream": "stdout",
       "text": [
        ",56"
       ]
      },
      {
       "output_type": "stream",
       "stream": "stdout",
       "text": [
        ",57"
       ]
      },
      {
       "output_type": "stream",
       "stream": "stdout",
       "text": [
        ",58"
       ]
      },
      {
       "output_type": "stream",
       "stream": "stdout",
       "text": [
        ",59"
       ]
      },
      {
       "output_type": "stream",
       "stream": "stdout",
       "text": [
        ",60"
       ]
      },
      {
       "output_type": "stream",
       "stream": "stdout",
       "text": [
        ",61"
       ]
      },
      {
       "output_type": "stream",
       "stream": "stdout",
       "text": [
        ",62"
       ]
      },
      {
       "output_type": "stream",
       "stream": "stdout",
       "text": [
        ",63"
       ]
      },
      {
       "output_type": "stream",
       "stream": "stdout",
       "text": [
        ",64"
       ]
      },
      {
       "output_type": "stream",
       "stream": "stdout",
       "text": [
        ",65"
       ]
      },
      {
       "output_type": "stream",
       "stream": "stdout",
       "text": [
        ",66"
       ]
      },
      {
       "output_type": "stream",
       "stream": "stdout",
       "text": [
        ",67"
       ]
      },
      {
       "output_type": "stream",
       "stream": "stdout",
       "text": [
        ",68"
       ]
      },
      {
       "output_type": "stream",
       "stream": "stdout",
       "text": [
        ",69"
       ]
      },
      {
       "output_type": "stream",
       "stream": "stdout",
       "text": [
        ",70"
       ]
      },
      {
       "output_type": "stream",
       "stream": "stdout",
       "text": [
        ",71"
       ]
      },
      {
       "output_type": "stream",
       "stream": "stdout",
       "text": [
        ",72"
       ]
      },
      {
       "output_type": "stream",
       "stream": "stdout",
       "text": [
        ",73"
       ]
      },
      {
       "output_type": "stream",
       "stream": "stdout",
       "text": [
        ",74"
       ]
      },
      {
       "output_type": "stream",
       "stream": "stdout",
       "text": [
        ",75"
       ]
      },
      {
       "output_type": "stream",
       "stream": "stdout",
       "text": [
        ",76"
       ]
      },
      {
       "output_type": "stream",
       "stream": "stdout",
       "text": [
        ",77"
       ]
      },
      {
       "output_type": "stream",
       "stream": "stdout",
       "text": [
        ",78"
       ]
      },
      {
       "output_type": "stream",
       "stream": "stdout",
       "text": [
        ",79"
       ]
      },
      {
       "output_type": "stream",
       "stream": "stdout",
       "text": [
        ",80"
       ]
      },
      {
       "output_type": "stream",
       "stream": "stdout",
       "text": [
        ",81"
       ]
      },
      {
       "output_type": "stream",
       "stream": "stdout",
       "text": [
        ",82"
       ]
      },
      {
       "output_type": "stream",
       "stream": "stdout",
       "text": [
        ",83"
       ]
      },
      {
       "output_type": "stream",
       "stream": "stdout",
       "text": [
        ",84"
       ]
      },
      {
       "output_type": "stream",
       "stream": "stdout",
       "text": [
        ",85"
       ]
      },
      {
       "output_type": "stream",
       "stream": "stdout",
       "text": [
        ",86"
       ]
      },
      {
       "output_type": "stream",
       "stream": "stdout",
       "text": [
        ",87"
       ]
      },
      {
       "output_type": "stream",
       "stream": "stdout",
       "text": [
        ",88"
       ]
      },
      {
       "output_type": "stream",
       "stream": "stdout",
       "text": [
        ",89"
       ]
      },
      {
       "output_type": "stream",
       "stream": "stdout",
       "text": [
        ",90"
       ]
      },
      {
       "output_type": "stream",
       "stream": "stdout",
       "text": [
        ",91"
       ]
      },
      {
       "output_type": "stream",
       "stream": "stdout",
       "text": [
        ",92"
       ]
      },
      {
       "output_type": "stream",
       "stream": "stdout",
       "text": [
        ",93"
       ]
      },
      {
       "output_type": "stream",
       "stream": "stdout",
       "text": [
        ",94"
       ]
      },
      {
       "output_type": "stream",
       "stream": "stdout",
       "text": [
        ",95"
       ]
      },
      {
       "output_type": "stream",
       "stream": "stdout",
       "text": [
        ",96"
       ]
      },
      {
       "output_type": "stream",
       "stream": "stdout",
       "text": [
        ",97"
       ]
      },
      {
       "output_type": "stream",
       "stream": "stdout",
       "text": [
        ",98"
       ]
      },
      {
       "output_type": "stream",
       "stream": "stdout",
       "text": [
        ",99"
       ]
      },
      {
       "output_type": "stream",
       "stream": "stdout",
       "text": [
        ",100"
       ]
      },
      {
       "output_type": "stream",
       "stream": "stdout",
       "text": [
        "\n",
        "2189.4 1084.40470305\n"
       ]
      }
     ],
     "prompt_number": 420
    },
    {
     "cell_type": "code",
     "collapsed": false,
     "input": [
      "left = RandomLeftPlayer()\n",
      "right = RandomRightPlayer()\n",
      "scores = []\n",
      "print(0,end='',flush=True)\n",
      "for i in range(100) :\n",
      "    game = Game2048()\n",
      "    game = right.chooseMove(game)\n",
      "    game = right.chooseMove(game)\n",
      "    lmoves = game.L()\n",
      "    while lmoves :\n",
      "        game = left.chooseMove(game)\n",
      "        game = right.chooseMove(game)\n",
      "        lmoves = game.L()\n",
      "    scores.append(game.score)\n",
      "    print(',{}'.format(i+1),end='',flush=True)\n",
      "print('')\n",
      "print(np.mean(scores),np.std(scores))"
     ],
     "language": "python",
     "metadata": {},
     "outputs": [
      {
       "output_type": "stream",
       "stream": "stdout",
       "text": [
        "0"
       ]
      },
      {
       "output_type": "stream",
       "stream": "stdout",
       "text": [
        ",1"
       ]
      },
      {
       "output_type": "stream",
       "stream": "stdout",
       "text": [
        ",2"
       ]
      },
      {
       "output_type": "stream",
       "stream": "stdout",
       "text": [
        ",3"
       ]
      },
      {
       "output_type": "stream",
       "stream": "stdout",
       "text": [
        ",4"
       ]
      },
      {
       "output_type": "stream",
       "stream": "stdout",
       "text": [
        ",5"
       ]
      },
      {
       "output_type": "stream",
       "stream": "stdout",
       "text": [
        ",6"
       ]
      },
      {
       "output_type": "stream",
       "stream": "stdout",
       "text": [
        ",7"
       ]
      },
      {
       "output_type": "stream",
       "stream": "stdout",
       "text": [
        ",8"
       ]
      },
      {
       "output_type": "stream",
       "stream": "stdout",
       "text": [
        ",9"
       ]
      },
      {
       "output_type": "stream",
       "stream": "stdout",
       "text": [
        ",10"
       ]
      },
      {
       "output_type": "stream",
       "stream": "stdout",
       "text": [
        ",11"
       ]
      },
      {
       "output_type": "stream",
       "stream": "stdout",
       "text": [
        ",12"
       ]
      },
      {
       "output_type": "stream",
       "stream": "stdout",
       "text": [
        ",13"
       ]
      },
      {
       "output_type": "stream",
       "stream": "stdout",
       "text": [
        ",14"
       ]
      },
      {
       "output_type": "stream",
       "stream": "stdout",
       "text": [
        ",15"
       ]
      },
      {
       "output_type": "stream",
       "stream": "stdout",
       "text": [
        ",16"
       ]
      },
      {
       "output_type": "stream",
       "stream": "stdout",
       "text": [
        ",17"
       ]
      },
      {
       "output_type": "stream",
       "stream": "stdout",
       "text": [
        ",18"
       ]
      },
      {
       "output_type": "stream",
       "stream": "stdout",
       "text": [
        ",19"
       ]
      },
      {
       "output_type": "stream",
       "stream": "stdout",
       "text": [
        ",20"
       ]
      },
      {
       "output_type": "stream",
       "stream": "stdout",
       "text": [
        ",21"
       ]
      },
      {
       "output_type": "stream",
       "stream": "stdout",
       "text": [
        ",22"
       ]
      },
      {
       "output_type": "stream",
       "stream": "stdout",
       "text": [
        ",23"
       ]
      },
      {
       "output_type": "stream",
       "stream": "stdout",
       "text": [
        ",24"
       ]
      },
      {
       "output_type": "stream",
       "stream": "stdout",
       "text": [
        ",25"
       ]
      },
      {
       "output_type": "stream",
       "stream": "stdout",
       "text": [
        ",26"
       ]
      },
      {
       "output_type": "stream",
       "stream": "stdout",
       "text": [
        ",27"
       ]
      },
      {
       "output_type": "stream",
       "stream": "stdout",
       "text": [
        ",28"
       ]
      },
      {
       "output_type": "stream",
       "stream": "stdout",
       "text": [
        ",29"
       ]
      },
      {
       "output_type": "stream",
       "stream": "stdout",
       "text": [
        ",30"
       ]
      },
      {
       "output_type": "stream",
       "stream": "stdout",
       "text": [
        ",31"
       ]
      },
      {
       "output_type": "stream",
       "stream": "stdout",
       "text": [
        ",32"
       ]
      },
      {
       "output_type": "stream",
       "stream": "stdout",
       "text": [
        ",33"
       ]
      },
      {
       "output_type": "stream",
       "stream": "stdout",
       "text": [
        ",34"
       ]
      },
      {
       "output_type": "stream",
       "stream": "stdout",
       "text": [
        ",35"
       ]
      },
      {
       "output_type": "stream",
       "stream": "stdout",
       "text": [
        ",36"
       ]
      },
      {
       "output_type": "stream",
       "stream": "stdout",
       "text": [
        ",37"
       ]
      },
      {
       "output_type": "stream",
       "stream": "stdout",
       "text": [
        ",38"
       ]
      },
      {
       "output_type": "stream",
       "stream": "stdout",
       "text": [
        ",39"
       ]
      },
      {
       "output_type": "stream",
       "stream": "stdout",
       "text": [
        ",40"
       ]
      },
      {
       "output_type": "stream",
       "stream": "stdout",
       "text": [
        ",41"
       ]
      },
      {
       "output_type": "stream",
       "stream": "stdout",
       "text": [
        ",42"
       ]
      },
      {
       "output_type": "stream",
       "stream": "stdout",
       "text": [
        ",43"
       ]
      },
      {
       "output_type": "stream",
       "stream": "stdout",
       "text": [
        ",44"
       ]
      },
      {
       "output_type": "stream",
       "stream": "stdout",
       "text": [
        ",45"
       ]
      },
      {
       "output_type": "stream",
       "stream": "stdout",
       "text": [
        ",46"
       ]
      },
      {
       "output_type": "stream",
       "stream": "stdout",
       "text": [
        ",47"
       ]
      },
      {
       "output_type": "stream",
       "stream": "stdout",
       "text": [
        ",48"
       ]
      },
      {
       "output_type": "stream",
       "stream": "stdout",
       "text": [
        ",49"
       ]
      },
      {
       "output_type": "stream",
       "stream": "stdout",
       "text": [
        ",50"
       ]
      },
      {
       "output_type": "stream",
       "stream": "stdout",
       "text": [
        ",51"
       ]
      },
      {
       "output_type": "stream",
       "stream": "stdout",
       "text": [
        ",52"
       ]
      },
      {
       "output_type": "stream",
       "stream": "stdout",
       "text": [
        ",53"
       ]
      },
      {
       "output_type": "stream",
       "stream": "stdout",
       "text": [
        ",54"
       ]
      },
      {
       "output_type": "stream",
       "stream": "stdout",
       "text": [
        ",55"
       ]
      },
      {
       "output_type": "stream",
       "stream": "stdout",
       "text": [
        ",56"
       ]
      },
      {
       "output_type": "stream",
       "stream": "stdout",
       "text": [
        ",57"
       ]
      },
      {
       "output_type": "stream",
       "stream": "stdout",
       "text": [
        ",58"
       ]
      },
      {
       "output_type": "stream",
       "stream": "stdout",
       "text": [
        ",59"
       ]
      },
      {
       "output_type": "stream",
       "stream": "stdout",
       "text": [
        ",60"
       ]
      },
      {
       "output_type": "stream",
       "stream": "stdout",
       "text": [
        ",61"
       ]
      },
      {
       "output_type": "stream",
       "stream": "stdout",
       "text": [
        ",62"
       ]
      },
      {
       "output_type": "stream",
       "stream": "stdout",
       "text": [
        ",63"
       ]
      },
      {
       "output_type": "stream",
       "stream": "stdout",
       "text": [
        ",64"
       ]
      },
      {
       "output_type": "stream",
       "stream": "stdout",
       "text": [
        ",65"
       ]
      },
      {
       "output_type": "stream",
       "stream": "stdout",
       "text": [
        ",66"
       ]
      },
      {
       "output_type": "stream",
       "stream": "stdout",
       "text": [
        ",67"
       ]
      },
      {
       "output_type": "stream",
       "stream": "stdout",
       "text": [
        ",68"
       ]
      },
      {
       "output_type": "stream",
       "stream": "stdout",
       "text": [
        ",69"
       ]
      },
      {
       "output_type": "stream",
       "stream": "stdout",
       "text": [
        ",70"
       ]
      },
      {
       "output_type": "stream",
       "stream": "stdout",
       "text": [
        ",71"
       ]
      },
      {
       "output_type": "stream",
       "stream": "stdout",
       "text": [
        ",72"
       ]
      },
      {
       "output_type": "stream",
       "stream": "stdout",
       "text": [
        ",73"
       ]
      },
      {
       "output_type": "stream",
       "stream": "stdout",
       "text": [
        ",74"
       ]
      },
      {
       "output_type": "stream",
       "stream": "stdout",
       "text": [
        ",75"
       ]
      },
      {
       "output_type": "stream",
       "stream": "stdout",
       "text": [
        ",76"
       ]
      },
      {
       "output_type": "stream",
       "stream": "stdout",
       "text": [
        ",77"
       ]
      },
      {
       "output_type": "stream",
       "stream": "stdout",
       "text": [
        ",78"
       ]
      },
      {
       "output_type": "stream",
       "stream": "stdout",
       "text": [
        ",79"
       ]
      },
      {
       "output_type": "stream",
       "stream": "stdout",
       "text": [
        ",80"
       ]
      },
      {
       "output_type": "stream",
       "stream": "stdout",
       "text": [
        ",81"
       ]
      },
      {
       "output_type": "stream",
       "stream": "stdout",
       "text": [
        ",82"
       ]
      },
      {
       "output_type": "stream",
       "stream": "stdout",
       "text": [
        ",83"
       ]
      },
      {
       "output_type": "stream",
       "stream": "stdout",
       "text": [
        ",84"
       ]
      },
      {
       "output_type": "stream",
       "stream": "stdout",
       "text": [
        ",85"
       ]
      },
      {
       "output_type": "stream",
       "stream": "stdout",
       "text": [
        ",86"
       ]
      },
      {
       "output_type": "stream",
       "stream": "stdout",
       "text": [
        ",87"
       ]
      },
      {
       "output_type": "stream",
       "stream": "stdout",
       "text": [
        ",88"
       ]
      },
      {
       "output_type": "stream",
       "stream": "stdout",
       "text": [
        ",89"
       ]
      },
      {
       "output_type": "stream",
       "stream": "stdout",
       "text": [
        ",90"
       ]
      },
      {
       "output_type": "stream",
       "stream": "stdout",
       "text": [
        ",91"
       ]
      },
      {
       "output_type": "stream",
       "stream": "stdout",
       "text": [
        ",92"
       ]
      },
      {
       "output_type": "stream",
       "stream": "stdout",
       "text": [
        ",93"
       ]
      },
      {
       "output_type": "stream",
       "stream": "stdout",
       "text": [
        ",94"
       ]
      },
      {
       "output_type": "stream",
       "stream": "stdout",
       "text": [
        ",95"
       ]
      },
      {
       "output_type": "stream",
       "stream": "stdout",
       "text": [
        ",96"
       ]
      },
      {
       "output_type": "stream",
       "stream": "stdout",
       "text": [
        ",97"
       ]
      },
      {
       "output_type": "stream",
       "stream": "stdout",
       "text": [
        ",98"
       ]
      },
      {
       "output_type": "stream",
       "stream": "stdout",
       "text": [
        ",99"
       ]
      },
      {
       "output_type": "stream",
       "stream": "stdout",
       "text": [
        ",100"
       ]
      },
      {
       "output_type": "stream",
       "stream": "stdout",
       "text": [
        "\n",
        "965.2 479.514587891\n"
       ]
      }
     ],
     "prompt_number": 421
    },
    {
     "cell_type": "code",
     "collapsed": false,
     "input": [
      "A=np.array([[1,2,3,4],[5,6,7,8]])"
     ],
     "language": "python",
     "metadata": {},
     "outputs": [],
     "prompt_number": 403
    },
    {
     "cell_type": "code",
     "collapsed": false,
     "input": [
      "A.ravel()"
     ],
     "language": "python",
     "metadata": {},
     "outputs": [
      {
       "metadata": {},
       "output_type": "pyout",
       "prompt_number": 405,
       "text": [
        "array([1, 2, 3, 4, 5, 6, 7, 8])"
       ]
      }
     ],
     "prompt_number": 405
    },
    {
     "cell_type": "code",
     "collapsed": false,
     "input": [],
     "language": "python",
     "metadata": {},
     "outputs": []
    }
   ],
   "metadata": {}
  }
 ]
}